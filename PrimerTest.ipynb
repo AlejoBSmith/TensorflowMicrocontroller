{
  "nbformat": 4,
  "nbformat_minor": 0,
  "metadata": {
    "colab": {
      "name": "Untitled2.ipynb",
      "provenance": [],
      "authorship_tag": "ABX9TyMn017RIdKd0VcHTL8fMZEq",
      "include_colab_link": true
    },
    "kernelspec": {
      "name": "python3",
      "display_name": "Python 3"
    },
    "language_info": {
      "name": "python"
    }
  },
  "cells": [
    {
      "cell_type": "markdown",
      "metadata": {
        "id": "view-in-github",
        "colab_type": "text"
      },
      "source": [
        "<a href=\"https://colab.research.google.com/github/AlejoBSmith/TensorflowMicrocontroller/blob/main/PrimerTest.ipynb\" target=\"_parent\"><img src=\"https://colab.research.google.com/assets/colab-badge.svg\" alt=\"Open In Colab\"/></a>"
      ]
    },
    {
      "cell_type": "code",
      "execution_count": null,
      "metadata": {
        "id": "vK1G2x9PJQgn"
      },
      "outputs": [],
      "source": [
        "#Programa para hacer un \"Hola mundo\" de redes neuronales usando Tensorflow\n",
        "#Se va a generar una onda senoidal y se va a alimentar a una red neuronal para aprender la regresión\n",
        "#El primer paso es la instalación de paquetes y dependencias\n",
        "\n",
        "!pip install tensorflow==2.0 #El signo de admiración es necesario para que se instale en el sistema. NO es un comando para Jupyter, como el resto del programa de aquí en adelante\n",
        "import tensorflow as tf\n",
        "import numpy as np\n",
        "import matplotlib.pyplot as plt #pyplot son pa manejar las gráficas como en matlab\n",
        "import math"
      ]
    },
    {
      "cell_type": "code",
      "source": [
        "#Generar los datos de entrenamiento (onda senoidal)\n",
        "SAMPLES=10000\n",
        "x_values = np.random.uniform(low=0, high=2*math.pi, size=SAMPLES)\n",
        "np.random.shuffle(x_values) #Pa desordenar el vector x\n",
        "y_values = np.sin(x_values) #Se una el de la librería numpy porque la de math solo trabaja con un dato\n",
        "\n",
        "#Graficar pa ve cómo quedó\n",
        "plt.plot(x_values, y_values, 'b.')\n",
        "plt.show()"
      ],
      "metadata": {
        "colab": {
          "base_uri": "https://localhost:8080/",
          "height": 265
        },
        "id": "7BOAgeclPXWf",
        "outputId": "78b67526-814a-47d4-8a2b-33c4bf761f53"
      },
      "execution_count": 6,
      "outputs": [
        {
          "output_type": "display_data",
          "data": {
            "text/plain": [
              "<Figure size 432x288 with 1 Axes>"
            ],
            "image/png": "[encoded data removed]"
          },
          "metadata": {
            "needs_background": "light"
          }
        }
      ]
    }
  ]
}